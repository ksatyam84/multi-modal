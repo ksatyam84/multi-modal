{
 "cells": [
  {
   "cell_type": "code",
   "execution_count": 1,
   "metadata": {},
   "outputs": [
    {
     "name": "stdout",
     "output_type": "stream",
     "text": [
      "     Release_Date                                 Title  \\\n",
      "0      2021-12-15               Spider-Man: No Way Home   \n",
      "1      2022-03-01                            The Batman   \n",
      "2      2022-02-25                               No Exit   \n",
      "3      2021-11-24                               Encanto   \n",
      "4      2021-12-22                        The King's Man   \n",
      "...           ...                                   ...   \n",
      "9832   1973-10-15                              Badlands   \n",
      "9833   2020-10-01                      Violent Delights   \n",
      "9834   2016-05-06                          The Offering   \n",
      "9835   2021-03-31  The United States vs. Billie Holiday   \n",
      "9836   1984-09-23                               Threads   \n",
      "\n",
      "                                               Overview  Popularity  \\\n",
      "0     Peter Parker is unmasked and no longer able to...    5083.954   \n",
      "1     In his second year of fighting crime, Batman u...    3827.658   \n",
      "2     Stranded at a rest stop in the mountains durin...    2618.087   \n",
      "3     The tale of an extraordinary family, the Madri...    2402.201   \n",
      "4     As a collection of history's worst tyrants and...    1895.511   \n",
      "...                                                 ...         ...   \n",
      "9832  A dramatization of the Starkweather-Fugate kil...      13.357   \n",
      "9833  A female vampire falls in love with a man she ...      13.356   \n",
      "9834  When young and successful reporter Jamie finds...      13.355   \n",
      "9835  Billie Holiday spent much of her career being ...      13.354   \n",
      "9836  Documentary style account of a nuclear holocau...      13.354   \n",
      "\n",
      "     Vote_Count Vote_Average Original_Language  \\\n",
      "0          8940          8.3                en   \n",
      "1          1151          8.1                en   \n",
      "2           122          6.3                en   \n",
      "3          5076          7.7                en   \n",
      "4          1793          7.0                en   \n",
      "...         ...          ...               ...   \n",
      "9832        896          7.6                en   \n",
      "9833          8          3.5                es   \n",
      "9834         94          5.0                en   \n",
      "9835        152          6.7                en   \n",
      "9836        186          7.8                en   \n",
      "\n",
      "                                   Genre  \\\n",
      "0     Action, Adventure, Science Fiction   \n",
      "1               Crime, Mystery, Thriller   \n",
      "2                               Thriller   \n",
      "3     Animation, Comedy, Family, Fantasy   \n",
      "4       Action, Adventure, Thriller, War   \n",
      "...                                  ...   \n",
      "9832                        Drama, Crime   \n",
      "9833                              Horror   \n",
      "9834           Mystery, Thriller, Horror   \n",
      "9835               Music, Drama, History   \n",
      "9836         War, Drama, Science Fiction   \n",
      "\n",
      "                                             Poster_Url  \n",
      "0     https://image.tmdb.org/t/p/original/1g0dhYtq4i...  \n",
      "1     https://image.tmdb.org/t/p/original/74xTEgt7R3...  \n",
      "2     https://image.tmdb.org/t/p/original/vDHsLnOWKl...  \n",
      "3     https://image.tmdb.org/t/p/original/4j0PNHkMr5...  \n",
      "4     https://image.tmdb.org/t/p/original/aq4Pwv5Xeu...  \n",
      "...                                                 ...  \n",
      "9832  https://image.tmdb.org/t/p/original/z81rBzHNgi...  \n",
      "9833  https://image.tmdb.org/t/p/original/4b6HY7rud6...  \n",
      "9834  https://image.tmdb.org/t/p/original/h4uMM1wOhz...  \n",
      "9835  https://image.tmdb.org/t/p/original/vEzkxuE2sJ...  \n",
      "9836  https://image.tmdb.org/t/p/original/lBhU4U9Eeh...  \n",
      "\n",
      "[9837 rows x 9 columns]\n",
      "\n",
      "['Action', 'Adventure', 'Science Fiction', 'Crime', 'Mystery', 'Thriller', 'Animation', 'Comedy', 'Family', 'Fantasy', 'War', 'Horror', 'Drama', 'Music', 'Romance', 'Western', 'History', 'TV Movie', 'Documentary']\n"
     ]
    }
   ],
   "source": [
    "\n",
    "import raw_data_handler as rdh\n",
    "import pandas as pd\n",
    "\n",
    "\n",
    "csv_file = \"RAW_DATA/mymoviedb_EAS510.csv\"\n",
    "input_dataframe = pd.read_csv(csv_file)\n",
    "\n",
    "print(input_dataframe)\n",
    "\n",
    "print()\n",
    "\n",
    "print(rdh.get_indiv_elements_from_column(\"Genre\", ', ', input_dataframe))\n",
    "\n",
    "\n"
   ]
  },
  {
   "cell_type": "code",
   "execution_count": 2,
   "metadata": {},
   "outputs": [],
   "source": [
    "ROOT_PATH = rdh.set_root_path(\"/Users/kkodweis/Github-Repos/EAS510-BasicsAI/multi-modal/datasets/\")\n",
    "\n"
   ]
  },
  {
   "cell_type": "code",
   "execution_count": 3,
   "metadata": {},
   "outputs": [
    {
     "name": "stdout",
     "output_type": "stream",
     "text": [
      "HALLLO\n",
      "Directory SampleV1 created successfully\n",
      "Directory /Users/kkodweis/Github-Repos/EAS510-BasicsAI/multi-modal/datasets/SampleV1/Train/Family created successfully\n",
      "Directory /Users/kkodweis/Github-Repos/EAS510-BasicsAI/multi-modal/datasets/SampleV1/Train/Music created successfully\n",
      "Directory /Users/kkodweis/Github-Repos/EAS510-BasicsAI/multi-modal/datasets/SampleV1/Train/News created successfully\n",
      "Directory /Users/kkodweis/Github-Repos/EAS510-BasicsAI/multi-modal/datasets/SampleV1/Train/Fantasy created successfully\n",
      "Directory /Users/kkodweis/Github-Repos/EAS510-BasicsAI/multi-modal/datasets/SampleV1/Train/Animation created successfully\n",
      "Directory /Users/kkodweis/Github-Repos/EAS510-BasicsAI/multi-modal/datasets/SampleV1/Train/Adventure created successfully\n",
      "Directory /Users/kkodweis/Github-Repos/EAS510-BasicsAI/multi-modal/datasets/SampleV1/Train/Comedy created successfully\n",
      "Directory /Users/kkodweis/Github-Repos/EAS510-BasicsAI/multi-modal/datasets/SampleV1/Train/Action created successfully\n",
      "Directory /Users/kkodweis/Github-Repos/EAS510-BasicsAI/multi-modal/datasets/SampleV1/Train/Romance created successfully\n",
      "Directory /Users/kkodweis/Github-Repos/EAS510-BasicsAI/multi-modal/datasets/SampleV1/Train/Drama created successfully\n",
      "Directory /Users/kkodweis/Github-Repos/EAS510-BasicsAI/multi-modal/datasets/SampleV1/Train/Crime created successfully\n",
      "Directory /Users/kkodweis/Github-Repos/EAS510-BasicsAI/multi-modal/datasets/SampleV1/Train/Thriller created successfully\n",
      "Directory /Users/kkodweis/Github-Repos/EAS510-BasicsAI/multi-modal/datasets/SampleV1/Test/Family created successfully\n",
      "Directory /Users/kkodweis/Github-Repos/EAS510-BasicsAI/multi-modal/datasets/SampleV1/Test/Music created successfully\n",
      "Directory /Users/kkodweis/Github-Repos/EAS510-BasicsAI/multi-modal/datasets/SampleV1/Test/News created successfully\n",
      "Directory /Users/kkodweis/Github-Repos/EAS510-BasicsAI/multi-modal/datasets/SampleV1/Test/Fantasy created successfully\n",
      "Directory /Users/kkodweis/Github-Repos/EAS510-BasicsAI/multi-modal/datasets/SampleV1/Test/Animation created successfully\n",
      "Directory /Users/kkodweis/Github-Repos/EAS510-BasicsAI/multi-modal/datasets/SampleV1/Test/Adventure created successfully\n",
      "Directory /Users/kkodweis/Github-Repos/EAS510-BasicsAI/multi-modal/datasets/SampleV1/Test/Comedy created successfully\n",
      "Directory /Users/kkodweis/Github-Repos/EAS510-BasicsAI/multi-modal/datasets/SampleV1/Test/Action created successfully\n",
      "Directory /Users/kkodweis/Github-Repos/EAS510-BasicsAI/multi-modal/datasets/SampleV1/Test/Romance created successfully\n",
      "Directory /Users/kkodweis/Github-Repos/EAS510-BasicsAI/multi-modal/datasets/SampleV1/Test/Drama created successfully\n",
      "Directory /Users/kkodweis/Github-Repos/EAS510-BasicsAI/multi-modal/datasets/SampleV1/Test/Crime created successfully\n",
      "Directory /Users/kkodweis/Github-Repos/EAS510-BasicsAI/multi-modal/datasets/SampleV1/Test/Thriller created successfully\n"
     ]
    }
   ],
   "source": [
    "genres = ['Family', 'Music', 'News', \"Fantasy\", 'Animation', 'Adventure', 'Comedy', 'Action', 'Romance', 'Drama', 'Crime',\"Thriller\"]\n",
    "\n",
    "rdh.mkdir_elements(\"SampleV1\", genres, ROOT_PATH )\n",
    "\n",
    "#rdh.ld_img_dir(\"/Users/kkodweis/Github-Repos/EAS510-BasicsAI/multi-modal/datasets/SampleV1\", input_dataframe, genres, \"Genre\", \"Poster\")"
   ]
  },
  {
   "cell_type": "code",
   "execution_count": null,
   "metadata": {},
   "outputs": [
    {
     "name": "stderr",
     "output_type": "stream",
     "text": [
      "  0%|          | 0/12 [00:00<?, ?it/s]"
     ]
    },
    {
     "name": "stdout",
     "output_type": "stream",
     "text": [
      "i: 9837, Family movies: 1414, Family urls: 1414\n",
      "train_url_array length: 1131\n",
      "test_url_array length: 283\n",
      "/Users/kkodweis/Github-Repos/EAS510-BasicsAI/multi-modal/datasets//SampleV1/Train/Family\n"
     ]
    },
    {
     "name": "stderr",
     "output_type": "stream",
     "text": []
    }
   ],
   "source": [
    "rdh.ld_img_dir(ROOT_PATH + \"/SampleV1\", input_dataframe, genres, 'Genre', 'Poster_Url')"
   ]
  },
  {
   "cell_type": "markdown",
   "metadata": {},
   "source": []
  }
 ],
 "metadata": {
  "kernelspec": {
   "display_name": "my_env",
   "language": "python",
   "name": "python3"
  },
  "language_info": {
   "codemirror_mode": {
    "name": "ipython",
    "version": 3
   },
   "file_extension": ".py",
   "mimetype": "text/x-python",
   "name": "python",
   "nbconvert_exporter": "python",
   "pygments_lexer": "ipython3",
   "version": "3.12.8"
  }
 },
 "nbformat": 4,
 "nbformat_minor": 2
}
