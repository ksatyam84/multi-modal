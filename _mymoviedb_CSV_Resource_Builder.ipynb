{
 "cells": [
  {
   "cell_type": "code",
   "execution_count": 1,
   "metadata": {},
   "outputs": [
    {
     "name": "stdout",
     "output_type": "stream",
     "text": [
      "     Release_Date                                 Title  \\\n",
      "0      2021-12-15               Spider-Man: No Way Home   \n",
      "1      2022-03-01                            The Batman   \n",
      "2      2022-02-25                               No Exit   \n",
      "3      2021-11-24                               Encanto   \n",
      "4      2021-12-22                        The King's Man   \n",
      "...           ...                                   ...   \n",
      "9832   1973-10-15                              Badlands   \n",
      "9833   2020-10-01                      Violent Delights   \n",
      "9834   2016-05-06                          The Offering   \n",
      "9835   2021-03-31  The United States vs. Billie Holiday   \n",
      "9836   1984-09-23                               Threads   \n",
      "\n",
      "                                               Overview  Popularity  \\\n",
      "0     Peter Parker is unmasked and no longer able to...    5083.954   \n",
      "1     In his second year of fighting crime, Batman u...    3827.658   \n",
      "2     Stranded at a rest stop in the mountains durin...    2618.087   \n",
      "3     The tale of an extraordinary family, the Madri...    2402.201   \n",
      "4     As a collection of history's worst tyrants and...    1895.511   \n",
      "...                                                 ...         ...   \n",
      "9832  A dramatization of the Starkweather-Fugate kil...      13.357   \n",
      "9833  A female vampire falls in love with a man she ...      13.356   \n",
      "9834  When young and successful reporter Jamie finds...      13.355   \n",
      "9835  Billie Holiday spent much of her career being ...      13.354   \n",
      "9836  Documentary style account of a nuclear holocau...      13.354   \n",
      "\n",
      "     Vote_Count Vote_Average Original_Language  \\\n",
      "0          8940          8.3                en   \n",
      "1          1151          8.1                en   \n",
      "2           122          6.3                en   \n",
      "3          5076          7.7                en   \n",
      "4          1793          7.0                en   \n",
      "...         ...          ...               ...   \n",
      "9832        896          7.6                en   \n",
      "9833          8          3.5                es   \n",
      "9834         94          5.0                en   \n",
      "9835        152          6.7                en   \n",
      "9836        186          7.8                en   \n",
      "\n",
      "                                   Genre  \\\n",
      "0     Action, Adventure, Science Fiction   \n",
      "1               Crime, Mystery, Thriller   \n",
      "2                               Thriller   \n",
      "3     Animation, Comedy, Family, Fantasy   \n",
      "4       Action, Adventure, Thriller, War   \n",
      "...                                  ...   \n",
      "9832                        Drama, Crime   \n",
      "9833                              Horror   \n",
      "9834           Mystery, Thriller, Horror   \n",
      "9835               Music, Drama, History   \n",
      "9836         War, Drama, Science Fiction   \n",
      "\n",
      "                                             Poster_Url  \n",
      "0     https://image.tmdb.org/t/p/original/1g0dhYtq4i...  \n",
      "1     https://image.tmdb.org/t/p/original/74xTEgt7R3...  \n",
      "2     https://image.tmdb.org/t/p/original/vDHsLnOWKl...  \n",
      "3     https://image.tmdb.org/t/p/original/4j0PNHkMr5...  \n",
      "4     https://image.tmdb.org/t/p/original/aq4Pwv5Xeu...  \n",
      "...                                                 ...  \n",
      "9832  https://image.tmdb.org/t/p/original/z81rBzHNgi...  \n",
      "9833  https://image.tmdb.org/t/p/original/4b6HY7rud6...  \n",
      "9834  https://image.tmdb.org/t/p/original/h4uMM1wOhz...  \n",
      "9835  https://image.tmdb.org/t/p/original/vEzkxuE2sJ...  \n",
      "9836  https://image.tmdb.org/t/p/original/lBhU4U9Eeh...  \n",
      "\n",
      "[9837 rows x 9 columns]\n",
      "\n",
      "['Action', 'Adventure', 'Science Fiction', 'Crime', 'Mystery', 'Thriller', 'Animation', 'Comedy', 'Family', 'Fantasy', 'War', 'Horror', 'Drama', 'Music', 'Romance', 'Western', 'History', 'TV Movie', 'Documentary']\n"
     ]
    }
   ],
   "source": [
    "\n",
    "import raw_data_handler as rdh\n",
    "import pandas as pd\n",
    "\n",
    "\n",
    "csv_file = \"RAW_DATA/mymoviedb_EAS510.csv\"\n",
    "input_dataframe = pd.read_csv(csv_file)\n",
    "\n",
    "print(input_dataframe)\n",
    "\n",
    "print()\n",
    "\n",
    "print(rdh.get_indiv_elements_from_column(\"Genre\", ', ', input_dataframe))\n",
    "\n",
    "\n"
   ]
  },
  {
   "cell_type": "code",
   "execution_count": 2,
   "metadata": {},
   "outputs": [],
   "source": [
    "ROOT_PATH = rdh.set_root_path(\"/Users/kkodweis/Github-Repos/EAS510-BasicsAI/multi-modal/datasets/\")\n",
    "\n"
   ]
  },
  {
   "cell_type": "code",
   "execution_count": 3,
   "metadata": {},
   "outputs": [
    {
     "name": "stdout",
     "output_type": "stream",
     "text": [
      "HALLLO\n",
      "Directory SampleV1 created successfully\n",
      "Directory /Users/kkodweis/Github-Repos/EAS510-BasicsAI/multi-modal/datasets/SampleV1/Train/Family created successfully\n",
      "Directory /Users/kkodweis/Github-Repos/EAS510-BasicsAI/multi-modal/datasets/SampleV1/Train/Music created successfully\n",
      "Directory /Users/kkodweis/Github-Repos/EAS510-BasicsAI/multi-modal/datasets/SampleV1/Train/News created successfully\n",
      "Directory /Users/kkodweis/Github-Repos/EAS510-BasicsAI/multi-modal/datasets/SampleV1/Train/Fantasy created successfully\n",
      "Directory /Users/kkodweis/Github-Repos/EAS510-BasicsAI/multi-modal/datasets/SampleV1/Train/Animation created successfully\n",
      "Directory /Users/kkodweis/Github-Repos/EAS510-BasicsAI/multi-modal/datasets/SampleV1/Train/Adventure created successfully\n",
      "Directory /Users/kkodweis/Github-Repos/EAS510-BasicsAI/multi-modal/datasets/SampleV1/Train/Comedy created successfully\n",
      "Directory /Users/kkodweis/Github-Repos/EAS510-BasicsAI/multi-modal/datasets/SampleV1/Train/Action created successfully\n",
      "Directory /Users/kkodweis/Github-Repos/EAS510-BasicsAI/multi-modal/datasets/SampleV1/Train/Romance created successfully\n",
      "Directory /Users/kkodweis/Github-Repos/EAS510-BasicsAI/multi-modal/datasets/SampleV1/Train/Drama created successfully\n",
      "Directory /Users/kkodweis/Github-Repos/EAS510-BasicsAI/multi-modal/datasets/SampleV1/Train/Crime created successfully\n",
      "Directory /Users/kkodweis/Github-Repos/EAS510-BasicsAI/multi-modal/datasets/SampleV1/Train/Thriller created successfully\n",
      "Directory /Users/kkodweis/Github-Repos/EAS510-BasicsAI/multi-modal/datasets/SampleV1/Test/Family created successfully\n",
      "Directory /Users/kkodweis/Github-Repos/EAS510-BasicsAI/multi-modal/datasets/SampleV1/Test/Music created successfully\n",
      "Directory /Users/kkodweis/Github-Repos/EAS510-BasicsAI/multi-modal/datasets/SampleV1/Test/News created successfully\n",
      "Directory /Users/kkodweis/Github-Repos/EAS510-BasicsAI/multi-modal/datasets/SampleV1/Test/Fantasy created successfully\n",
      "Directory /Users/kkodweis/Github-Repos/EAS510-BasicsAI/multi-modal/datasets/SampleV1/Test/Animation created successfully\n",
      "Directory /Users/kkodweis/Github-Repos/EAS510-BasicsAI/multi-modal/datasets/SampleV1/Test/Adventure created successfully\n",
      "Directory /Users/kkodweis/Github-Repos/EAS510-BasicsAI/multi-modal/datasets/SampleV1/Test/Comedy created successfully\n",
      "Directory /Users/kkodweis/Github-Repos/EAS510-BasicsAI/multi-modal/datasets/SampleV1/Test/Action created successfully\n",
      "Directory /Users/kkodweis/Github-Repos/EAS510-BasicsAI/multi-modal/datasets/SampleV1/Test/Romance created successfully\n",
      "Directory /Users/kkodweis/Github-Repos/EAS510-BasicsAI/multi-modal/datasets/SampleV1/Test/Drama created successfully\n",
      "Directory /Users/kkodweis/Github-Repos/EAS510-BasicsAI/multi-modal/datasets/SampleV1/Test/Crime created successfully\n",
      "Directory /Users/kkodweis/Github-Repos/EAS510-BasicsAI/multi-modal/datasets/SampleV1/Test/Thriller created successfully\n"
     ]
    }
   ],
   "source": [
    "genres = ['Family', 'Music', 'News', \"Fantasy\", 'Animation', 'Adventure', 'Comedy', 'Action', 'Romance', 'Drama', 'Crime',\"Thriller\"]\n",
    "\n",
    "rdh.mkdir_elements(\"SampleV1\", genres, ROOT_PATH )\n",
    "\n",
    "#rdh.ld_img_dir(\"/Users/kkodweis/Github-Repos/EAS510-BasicsAI/multi-modal/datasets/SampleV1\", input_dataframe, genres, \"Genre\", \"Poster\")"
   ]
  },
  {
   "cell_type": "code",
   "execution_count": 4,
   "metadata": {},
   "outputs": [
    {
     "name": "stderr",
     "output_type": "stream",
     "text": [
      "  0%|          | 0/12 [00:00<?, ?it/s]"
     ]
    },
    {
     "name": "stdout",
     "output_type": "stream",
     "text": [
      "i: 9837, Family movies: 1414, Family urls: 1414\n",
      "train_url_array length: 1131\n",
      "test_url_array length: 283\n",
      "/Users/kkodweis/Github-Repos/EAS510-BasicsAI/multi-modal/datasets//SampleV1/Train/Family\n"
     ]
    },
    {
     "name": "stderr",
     "output_type": "stream",
     "text": [
      "100%|██████████| 1131/1131 [06:45<00:00,  2.79it/s]\n"
     ]
    },
    {
     "name": "stdout",
     "output_type": "stream",
     "text": [
      "Download completed for path: /Users/kkodweis/Github-Repos/EAS510-BasicsAI/multi-modal/datasets//SampleV1/Train/Family\n",
      "Label: Family | Train sample image set download complete.\n",
      "/Users/kkodweis/Github-Repos/EAS510-BasicsAI/multi-modal/datasets//SampleV1/Test/Family\n"
     ]
    },
    {
     "name": "stderr",
     "output_type": "stream",
     "text": [
      "100%|██████████| 283/283 [01:55<00:00,  2.45it/s]\n",
      "  8%|▊         | 1/12 [08:41<1:35:34, 521.27s/it]"
     ]
    },
    {
     "name": "stdout",
     "output_type": "stream",
     "text": [
      "Download completed for path: /Users/kkodweis/Github-Repos/EAS510-BasicsAI/multi-modal/datasets//SampleV1/Test/Family\n",
      "Label: Family | Test sample image set download complete.\n",
      "i: 9837, Music movies: 295, Music urls: 295\n",
      "train_url_array length: 236\n",
      "test_url_array length: 59\n",
      "/Users/kkodweis/Github-Repos/EAS510-BasicsAI/multi-modal/datasets//SampleV1/Train/Music\n"
     ]
    },
    {
     "name": "stderr",
     "output_type": "stream",
     "text": [
      "100%|██████████| 236/236 [01:38<00:00,  2.40it/s]\n"
     ]
    },
    {
     "name": "stdout",
     "output_type": "stream",
     "text": [
      "Download completed for path: /Users/kkodweis/Github-Repos/EAS510-BasicsAI/multi-modal/datasets//SampleV1/Train/Music\n",
      "Label: Music | Train sample image set download complete.\n",
      "/Users/kkodweis/Github-Repos/EAS510-BasicsAI/multi-modal/datasets//SampleV1/Test/Music\n"
     ]
    },
    {
     "name": "stderr",
     "output_type": "stream",
     "text": [
      "100%|██████████| 59/59 [00:21<00:00,  2.71it/s]\n",
      " 17%|█▋        | 2/12 [10:41<47:33, 285.38s/it]  "
     ]
    },
    {
     "name": "stdout",
     "output_type": "stream",
     "text": [
      "Download completed for path: /Users/kkodweis/Github-Repos/EAS510-BasicsAI/multi-modal/datasets//SampleV1/Test/Music\n",
      "Label: Music | Test sample image set download complete.\n",
      "i: 9837, News movies: 0, News urls: 0\n",
      "train_url_array length: 0\n",
      "test_url_array length: 0\n",
      "/Users/kkodweis/Github-Repos/EAS510-BasicsAI/multi-modal/datasets//SampleV1/Train/News\n"
     ]
    },
    {
     "name": "stderr",
     "output_type": "stream",
     "text": [
      "0it [00:00, ?it/s]\n"
     ]
    },
    {
     "name": "stdout",
     "output_type": "stream",
     "text": [
      "Download completed for path: /Users/kkodweis/Github-Repos/EAS510-BasicsAI/multi-modal/datasets//SampleV1/Train/News\n",
      "Label: News | Train sample image set download complete.\n",
      "/Users/kkodweis/Github-Repos/EAS510-BasicsAI/multi-modal/datasets//SampleV1/Test/News\n"
     ]
    },
    {
     "name": "stderr",
     "output_type": "stream",
     "text": [
      "0it [00:00, ?it/s]\n"
     ]
    },
    {
     "name": "stdout",
     "output_type": "stream",
     "text": [
      "Download completed for path: /Users/kkodweis/Github-Repos/EAS510-BasicsAI/multi-modal/datasets//SampleV1/Test/News\n",
      "Label: News | Test sample image set download complete.\n",
      "i: 9837, Fantasy movies: 1308, Fantasy urls: 1308\n",
      "train_url_array length: 1046\n",
      "test_url_array length: 262\n",
      "/Users/kkodweis/Github-Repos/EAS510-BasicsAI/multi-modal/datasets//SampleV1/Train/Fantasy\n"
     ]
    },
    {
     "name": "stderr",
     "output_type": "stream",
     "text": [
      "100%|██████████| 1046/1046 [07:55<00:00,  2.20it/s]\n"
     ]
    },
    {
     "name": "stdout",
     "output_type": "stream",
     "text": [
      "Download completed for path: /Users/kkodweis/Github-Repos/EAS510-BasicsAI/multi-modal/datasets//SampleV1/Train/Fantasy\n",
      "Label: Fantasy | Train sample image set download complete.\n",
      "/Users/kkodweis/Github-Repos/EAS510-BasicsAI/multi-modal/datasets//SampleV1/Test/Fantasy\n"
     ]
    },
    {
     "name": "stderr",
     "output_type": "stream",
     "text": [
      "100%|██████████| 262/262 [01:49<00:00,  2.39it/s]\n",
      " 33%|███▎      | 4/12 [20:26<38:39, 289.90s/it]"
     ]
    },
    {
     "name": "stdout",
     "output_type": "stream",
     "text": [
      "Download completed for path: /Users/kkodweis/Github-Repos/EAS510-BasicsAI/multi-modal/datasets//SampleV1/Test/Fantasy\n",
      "Label: Fantasy | Test sample image set download complete.\n",
      "i: 9837, Animation movies: 1438, Animation urls: 1438\n",
      "train_url_array length: 1150\n",
      "test_url_array length: 288\n",
      "/Users/kkodweis/Github-Repos/EAS510-BasicsAI/multi-modal/datasets//SampleV1/Train/Animation\n"
     ]
    },
    {
     "name": "stderr",
     "output_type": "stream",
     "text": [
      "100%|██████████| 1150/1150 [07:21<00:00,  2.60it/s]\n"
     ]
    },
    {
     "name": "stdout",
     "output_type": "stream",
     "text": [
      "Download completed for path: /Users/kkodweis/Github-Repos/EAS510-BasicsAI/multi-modal/datasets//SampleV1/Train/Animation\n",
      "Label: Animation | Train sample image set download complete.\n",
      "/Users/kkodweis/Github-Repos/EAS510-BasicsAI/multi-modal/datasets//SampleV1/Test/Animation\n"
     ]
    },
    {
     "name": "stderr",
     "output_type": "stream",
     "text": [
      "100%|██████████| 288/288 [01:33<00:00,  3.10it/s]\n",
      " 42%|████▏     | 5/12 [29:21<42:39, 365.63s/it]"
     ]
    },
    {
     "name": "stdout",
     "output_type": "stream",
     "text": [
      "Download completed for path: /Users/kkodweis/Github-Repos/EAS510-BasicsAI/multi-modal/datasets//SampleV1/Test/Animation\n",
      "Label: Animation | Test sample image set download complete.\n",
      "i: 9837, Adventure movies: 1853, Adventure urls: 1853\n",
      "train_url_array length: 1482\n",
      "test_url_array length: 371\n",
      "/Users/kkodweis/Github-Repos/EAS510-BasicsAI/multi-modal/datasets//SampleV1/Train/Adventure\n"
     ]
    },
    {
     "name": "stderr",
     "output_type": "stream",
     "text": [
      "100%|██████████| 1482/1482 [10:26<00:00,  2.36it/s]\n"
     ]
    },
    {
     "name": "stdout",
     "output_type": "stream",
     "text": [
      "Download completed for path: /Users/kkodweis/Github-Repos/EAS510-BasicsAI/multi-modal/datasets//SampleV1/Train/Adventure\n",
      "Label: Adventure | Train sample image set download complete.\n",
      "/Users/kkodweis/Github-Repos/EAS510-BasicsAI/multi-modal/datasets//SampleV1/Test/Adventure\n"
     ]
    },
    {
     "name": "stderr",
     "output_type": "stream",
     "text": [
      "100%|██████████| 371/371 [02:38<00:00,  2.35it/s]\n",
      " 50%|█████     | 6/12 [42:26<49:25, 494.17s/it]"
     ]
    },
    {
     "name": "stdout",
     "output_type": "stream",
     "text": [
      "Download completed for path: /Users/kkodweis/Github-Repos/EAS510-BasicsAI/multi-modal/datasets//SampleV1/Test/Adventure\n",
      "Label: Adventure | Test sample image set download complete.\n",
      "i: 9837, Comedy movies: 3031, Comedy urls: 3031\n",
      "train_url_array length: 2424\n",
      "test_url_array length: 607\n",
      "/Users/kkodweis/Github-Repos/EAS510-BasicsAI/multi-modal/datasets//SampleV1/Train/Comedy\n"
     ]
    },
    {
     "name": "stderr",
     "output_type": "stream",
     "text": [
      "100%|██████████| 2424/2424 [17:04<00:00,  2.37it/s]\n"
     ]
    },
    {
     "name": "stdout",
     "output_type": "stream",
     "text": [
      "Download completed for path: /Users/kkodweis/Github-Repos/EAS510-BasicsAI/multi-modal/datasets//SampleV1/Train/Comedy\n",
      "Label: Comedy | Train sample image set download complete.\n",
      "/Users/kkodweis/Github-Repos/EAS510-BasicsAI/multi-modal/datasets//SampleV1/Test/Comedy\n"
     ]
    },
    {
     "name": "stderr",
     "output_type": "stream",
     "text": [
      "100%|██████████| 607/607 [03:58<00:00,  2.54it/s]\n",
      " 58%|█████▊    | 7/12 [1:03:29<1:00:41, 728.33s/it]"
     ]
    },
    {
     "name": "stdout",
     "output_type": "stream",
     "text": [
      "Download completed for path: /Users/kkodweis/Github-Repos/EAS510-BasicsAI/multi-modal/datasets//SampleV1/Test/Comedy\n",
      "Label: Comedy | Test sample image set download complete.\n",
      "i: 9837, Action movies: 2686, Action urls: 2686\n",
      "train_url_array length: 2148\n",
      "test_url_array length: 538\n",
      "/Users/kkodweis/Github-Repos/EAS510-BasicsAI/multi-modal/datasets//SampleV1/Train/Action\n"
     ]
    },
    {
     "name": "stderr",
     "output_type": "stream",
     "text": [
      "100%|██████████| 2148/2148 [15:19<00:00,  2.34it/s]\n"
     ]
    },
    {
     "name": "stdout",
     "output_type": "stream",
     "text": [
      "Download completed for path: /Users/kkodweis/Github-Repos/EAS510-BasicsAI/multi-modal/datasets//SampleV1/Train/Action\n",
      "Label: Action | Train sample image set download complete.\n",
      "/Users/kkodweis/Github-Repos/EAS510-BasicsAI/multi-modal/datasets//SampleV1/Test/Action\n"
     ]
    },
    {
     "name": "stderr",
     "output_type": "stream",
     "text": [
      "100%|██████████| 538/538 [03:33<00:00,  2.53it/s]\n",
      " 67%|██████▋   | 8/12 [1:22:22<56:43, 850.94s/it]  "
     ]
    },
    {
     "name": "stdout",
     "output_type": "stream",
     "text": [
      "Download completed for path: /Users/kkodweis/Github-Repos/EAS510-BasicsAI/multi-modal/datasets//SampleV1/Test/Action\n",
      "Label: Action | Test sample image set download complete.\n",
      "i: 9837, Romance movies: 1476, Romance urls: 1476\n",
      "train_url_array length: 1180\n",
      "test_url_array length: 296\n",
      "/Users/kkodweis/Github-Repos/EAS510-BasicsAI/multi-modal/datasets//SampleV1/Train/Romance\n"
     ]
    },
    {
     "name": "stderr",
     "output_type": "stream",
     "text": [
      "100%|██████████| 1180/1180 [07:30<00:00,  2.62it/s]\n"
     ]
    },
    {
     "name": "stdout",
     "output_type": "stream",
     "text": [
      "Download completed for path: /Users/kkodweis/Github-Repos/EAS510-BasicsAI/multi-modal/datasets//SampleV1/Train/Romance\n",
      "Label: Romance | Train sample image set download complete.\n",
      "/Users/kkodweis/Github-Repos/EAS510-BasicsAI/multi-modal/datasets//SampleV1/Test/Romance\n"
     ]
    },
    {
     "name": "stderr",
     "output_type": "stream",
     "text": [
      "100%|██████████| 296/296 [01:48<00:00,  2.73it/s]\n",
      " 75%|███████▌  | 9/12 [1:31:41<38:08, 762.72s/it]"
     ]
    },
    {
     "name": "stdout",
     "output_type": "stream",
     "text": [
      "Download completed for path: /Users/kkodweis/Github-Repos/EAS510-BasicsAI/multi-modal/datasets//SampleV1/Test/Romance\n",
      "Label: Romance | Test sample image set download complete.\n",
      "i: 9837, Drama movies: 3744, Drama urls: 3744\n",
      "train_url_array length: 2995\n",
      "test_url_array length: 749\n",
      "/Users/kkodweis/Github-Repos/EAS510-BasicsAI/multi-modal/datasets//SampleV1/Train/Drama\n"
     ]
    },
    {
     "name": "stderr",
     "output_type": "stream",
     "text": [
      "100%|██████████| 2995/2995 [20:02<00:00,  2.49it/s]\n"
     ]
    },
    {
     "name": "stdout",
     "output_type": "stream",
     "text": [
      "Download completed for path: /Users/kkodweis/Github-Repos/EAS510-BasicsAI/multi-modal/datasets//SampleV1/Train/Drama\n",
      "Label: Drama | Train sample image set download complete.\n",
      "/Users/kkodweis/Github-Repos/EAS510-BasicsAI/multi-modal/datasets//SampleV1/Test/Drama\n"
     ]
    },
    {
     "name": "stderr",
     "output_type": "stream",
     "text": [
      "100%|██████████| 749/749 [04:44<00:00,  2.63it/s]\n",
      " 83%|████████▎ | 10/12 [1:56:28<32:42, 981.14s/it]"
     ]
    },
    {
     "name": "stdout",
     "output_type": "stream",
     "text": [
      "Download completed for path: /Users/kkodweis/Github-Repos/EAS510-BasicsAI/multi-modal/datasets//SampleV1/Test/Drama\n",
      "Label: Drama | Test sample image set download complete.\n",
      "i: 9837, Crime movies: 1242, Crime urls: 1242\n",
      "train_url_array length: 993\n",
      "test_url_array length: 249\n",
      "/Users/kkodweis/Github-Repos/EAS510-BasicsAI/multi-modal/datasets//SampleV1/Train/Crime\n"
     ]
    },
    {
     "name": "stderr",
     "output_type": "stream",
     "text": [
      "100%|██████████| 993/993 [06:44<00:00,  2.46it/s]\n"
     ]
    },
    {
     "name": "stdout",
     "output_type": "stream",
     "text": [
      "Download completed for path: /Users/kkodweis/Github-Repos/EAS510-BasicsAI/multi-modal/datasets//SampleV1/Train/Crime\n",
      "Label: Crime | Train sample image set download complete.\n",
      "/Users/kkodweis/Github-Repos/EAS510-BasicsAI/multi-modal/datasets//SampleV1/Test/Crime\n"
     ]
    },
    {
     "name": "stderr",
     "output_type": "stream",
     "text": [
      "100%|██████████| 249/249 [01:35<00:00,  2.61it/s]\n",
      " 92%|█████████▏| 11/12 [2:04:48<13:56, 836.16s/it]"
     ]
    },
    {
     "name": "stdout",
     "output_type": "stream",
     "text": [
      "Download completed for path: /Users/kkodweis/Github-Repos/EAS510-BasicsAI/multi-modal/datasets//SampleV1/Test/Crime\n",
      "Label: Crime | Test sample image set download complete.\n",
      "i: 9837, Thriller movies: 2488, Thriller urls: 2488\n",
      "train_url_array length: 1990\n",
      "test_url_array length: 498\n",
      "/Users/kkodweis/Github-Repos/EAS510-BasicsAI/multi-modal/datasets//SampleV1/Train/Thriller\n"
     ]
    },
    {
     "name": "stderr",
     "output_type": "stream",
     "text": [
      "100%|██████████| 1990/1990 [14:10<00:00,  2.34it/s]\n"
     ]
    },
    {
     "name": "stdout",
     "output_type": "stream",
     "text": [
      "Download completed for path: /Users/kkodweis/Github-Repos/EAS510-BasicsAI/multi-modal/datasets//SampleV1/Train/Thriller\n",
      "Label: Thriller | Train sample image set download complete.\n",
      "/Users/kkodweis/Github-Repos/EAS510-BasicsAI/multi-modal/datasets//SampleV1/Test/Thriller\n"
     ]
    },
    {
     "name": "stderr",
     "output_type": "stream",
     "text": [
      "100%|██████████| 498/498 [03:19<00:00,  2.50it/s]\n",
      "100%|██████████| 12/12 [2:22:18<00:00, 711.52s/it]"
     ]
    },
    {
     "name": "stdout",
     "output_type": "stream",
     "text": [
      "Download completed for path: /Users/kkodweis/Github-Repos/EAS510-BasicsAI/multi-modal/datasets//SampleV1/Test/Thriller\n",
      "Label: Thriller | Test sample image set download complete.\n",
      "Full sample image set download complete\n"
     ]
    },
    {
     "name": "stderr",
     "output_type": "stream",
     "text": [
      "\n"
     ]
    }
   ],
   "source": [
    "rdh.ld_img_dir(ROOT_PATH + \"/SampleV1\", input_dataframe, genres, 'Genre', 'Poster_Url')"
   ]
  },
  {
   "cell_type": "markdown",
   "metadata": {},
   "source": []
  }
 ],
 "metadata": {
  "kernelspec": {
   "display_name": "my_env",
   "language": "python",
   "name": "python3"
  },
  "language_info": {
   "codemirror_mode": {
    "name": "ipython",
    "version": 3
   },
   "file_extension": ".py",
   "mimetype": "text/x-python",
   "name": "python",
   "nbconvert_exporter": "python",
   "pygments_lexer": "ipython3",
   "version": "3.12.8"
  }
 },
 "nbformat": 4,
 "nbformat_minor": 2
}
