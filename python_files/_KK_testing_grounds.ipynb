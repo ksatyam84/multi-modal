{
 "cells": [
  {
   "cell_type": "code",
   "execution_count": null,
   "metadata": {},
   "outputs": [
    {
     "name": "stdout",
     "output_type": "stream",
     "text": [
      "['home', 'usr', '.resolve', 'bin', 'sbin', '.file', 'etc', 'var', 'Library', 'System', '.VolumeIcon.icns', 'private', '.vol', 'Users', 'Applications', 'opt', 'dev', 'Volumes', '.nofollow', 'tmp', 'cores']\n"
     ]
    },
    {
     "ename": "ModuleNotFoundError",
     "evalue": "No module named 'data_setup'",
     "output_type": "error",
     "traceback": [
      "\u001b[0;31m---------------------------------------------------------------------------\u001b[0m",
      "\u001b[0;31mModuleNotFoundError\u001b[0m                       Traceback (most recent call last)",
      "Cell \u001b[0;32mIn[4], line 4\u001b[0m\n\u001b[1;32m      2\u001b[0m \u001b[38;5;28mprint\u001b[39m(os\u001b[38;5;241m.\u001b[39mlistdir())\n\u001b[1;32m      3\u001b[0m \u001b[38;5;28;01mimport\u001b[39;00m \u001b[38;5;21;01mtorch\u001b[39;00m\n\u001b[0;32m----> 4\u001b[0m \u001b[38;5;28;01mimport\u001b[39;00m \u001b[38;5;21;01mdata_setup\u001b[39;00m\u001b[38;5;241m,\u001b[39m \u001b[38;5;21;01mmodel_builder\u001b[39;00m\u001b[38;5;241m,\u001b[39m \u001b[38;5;21;01mengine\u001b[39;00m\u001b[38;5;241m,\u001b[39m \u001b[38;5;21;01mutils\u001b[39;00m\n\u001b[1;32m      7\u001b[0m NUM_EPOCHS \u001b[38;5;241m=\u001b[39m \u001b[38;5;241m5\u001b[39m\n\u001b[1;32m      8\u001b[0m BATCH_SIZE \u001b[38;5;241m=\u001b[39m \u001b[38;5;241m32\u001b[39m\n",
      "\u001b[0;31mModuleNotFoundError\u001b[0m: No module named 'data_setup'"
     ]
    }
   ],
   "source": [
    "\n",
    "import os\n",
    "import torch\n",
    "import data_setup, model_builder, engine, utils\n",
    "\n",
    "\n",
    "NUM_EPOCHS = 5\n",
    "BATCH_SIZE = 32\n",
    "HIDDEN_UNITS = 10\n",
    "LEARNING_RATE = 0.001\n",
    "\n",
    "torch.manual_seed(42)  # Set seed for reproducibility\n"
   ]
  },
  {
   "cell_type": "code",
   "execution_count": null,
   "metadata": {},
   "outputs": [],
   "source": [
    "# THIS WILL RUN A TRAINING CYCLE ON A TINY VGG MODEL\n",
    "if __name__ == '__main__':\n",
    "\n",
    "    train_dir = \"/Users/kkodweis/Github-Repos/EAS510-BasicsAI/datasets/SampleV0/Train\"\n",
    "    test_dir = \"/Users/kkodweis/Github-Repos/EAS510-BasicsAI/datasets/SampleV0/Test\"\n",
    "\n",
    "    device = \"mps\" if torch.backends.mps.is_available() else \"cuda\" if torch.cuda.is_available() else \"cpu\"\n",
    "    print(f\"\\nUsing device: {device}\\n\")\n",
    "\n",
    "    data_transform = utils.perspectiveV0()\n",
    "\n",
    "    train_dataloader, test_dataloader, class_labels = data_setup.create_dataloaders(\n",
    "        train_dir=train_dir,\n",
    "        test_dir=test_dir,\n",
    "        transform=data_transform.data_transform,\n",
    "        batch_size=BATCH_SIZE\n",
    "    )\n",
    "\n",
    "    model = model_builder.ResNet18(num_classes=3).to(device)\n",
    "\n",
    "    loss_fn = torch.nn.CrossEntropyLoss()\n",
    "    optimizer = torch.optim.SGD(params=model.parameters(), lr=LEARNING_RATE)\n",
    "\n",
    "    engine.train(\n",
    "        model=model,\n",
    "        train_dataloader=train_dataloader,\n",
    "        test_dataloader=test_dataloader,\n",
    "        optimizer=optimizer,\n",
    "        loss_fn=loss_fn,\n",
    "        device=device,\n",
    "        epochs=NUM_EPOCHS\n",
    "    )\n",
    "\n",
    "    utils.save_model(model=model,target_dir=\"models\", model_name=\"ResNet18_model_V0_Trained_Sample_V0.pth\")\n",
    "\n",
    "    \n",
    "    \"\"\"loaded_modelV2 = model_builder.TinyVGG(input_shape=3, hidden_units=HIDDEN_UNITS, output_shape=len(class_labels)).to(device)\n",
    "    loaded_modelV2.load_state_dict(torch.load(\"models/tinyvgg_model_V3.pth\"))\n",
    "\n",
    "    print(f\"Loaded model:\\n{loaded_modelV2}\")\n",
    "    print(f\"Model on device:\\n{next(loaded_modelV2.parameters()).device}\")\n",
    "\n",
    "    # Evaluate loaded model\n",
    "    loaded_modelV2.eval()\n",
    "    with torch.inference_mode():\n",
    "        loaded_modelV2_preds = loaded_modelV2(test_dataloader)\n",
    "    print(loaded_modelV2_preds)\"\"\"\n"
   ]
  },
  {
   "cell_type": "code",
   "execution_count": null,
   "metadata": {},
   "outputs": [],
   "source": []
  },
  {
   "cell_type": "code",
   "execution_count": null,
   "metadata": {},
   "outputs": [],
   "source": [
    "rdh.set_root_path(\"/Users/kkodweis/Github-Repos/EAS510-BasicsAI/multi-modal/datasets\")\n",
    "\n",
    "import pandas as pd\n",
    "\n",
    "input_dataframe = pd.read_csv('/Users/kkodweis/Github-Repos/EAS510-BasicsAI/multi-modal/RAW_DATA/mymoviedb_EAS510.csv')\n",
    "\n",
    "for genre in data_setup.get_genres(input_dataframe):\n",
    "    print(f\"{genre}\\n\")\n",
    "\n"
   ]
  },
  {
   "cell_type": "code",
   "execution_count": null,
   "metadata": {},
   "outputs": [],
   "source": [
    "SAMPLE_NAME = \"SampleV1\"  # Name of the sample directory\n",
    "\n",
    "labels = [ 'War', 'Horror']  #\"Comedy\", \"Western\", \"Thriller\",\n",
    "\n",
    "print(input_dataframe.columns)\n",
    "\n",
    "\n"
   ]
  },
  {
   "cell_type": "code",
   "execution_count": null,
   "metadata": {},
   "outputs": [],
   "source": [
    "#rdh.mk_sample(SAMPLE_NAME, input_dataframe, \"Genre\", \"Poster_Urls\", labels)"
   ]
  },
  {
   "cell_type": "code",
   "execution_count": null,
   "metadata": {},
   "outputs": [],
   "source": [
    "import requests\n",
    "\n",
    "genre = 'Action'\n",
    "\n",
    "base_url = 'https://api.movieposterdb.com/search?q=matrix'\n",
    "\n",
    "token = '528|MiCJGTHfoUrdFFs7iaAb2bC46iO1F7DkHc4AqgC4'\n",
    "\n",
    "def getActionMovies():\n",
    "    url = f\"https://api.movieposterdb.com/v1/genres\"\n",
    "    headers = {\n",
    "        \"Authorization\": f\"Bearer {token}\",\n",
    "        \"Accept\": \"application/json\"\n",
    "    }\n",
    "\n",
    "    response = requests.get(url, headers=headers)\n",
    "    print(response)\n",
    "\n",
    "    if response.status_code == 200:\n",
    "        print(response.json())\n",
    "        #print(genre_data)\n",
    "    else:\n",
    "        print(f\"Failed to retrieve data {response.status_code}\")\n",
    "\n",
    "getActionMovies()\n"
   ]
  },
  {
   "cell_type": "code",
   "execution_count": null,
   "metadata": {},
   "outputs": [],
   "source": []
  }
 ],
 "metadata": {
  "kernelspec": {
   "display_name": "my_env",
   "language": "python",
   "name": "python3"
  },
  "language_info": {
   "codemirror_mode": {
    "name": "ipython",
    "version": 3
   },
   "file_extension": ".py",
   "mimetype": "text/x-python",
   "name": "python",
   "nbconvert_exporter": "python",
   "pygments_lexer": "ipython3",
   "version": "3.12.8"
  }
 },
 "nbformat": 4,
 "nbformat_minor": 2
}
