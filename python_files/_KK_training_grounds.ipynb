{
 "cells": [
  {
   "cell_type": "code",
   "execution_count": 1,
   "metadata": {},
   "outputs": [
    {
     "data": {
      "text/plain": [
       "<torch._C.Generator at 0x11ae01570>"
      ]
     },
     "execution_count": 1,
     "metadata": {},
     "output_type": "execute_result"
    }
   ],
   "source": [
    "\n",
    "import os\n",
    "import torch\n",
    "import data_setup, model_builder, engine, utils\n",
    "\n",
    "\n",
    "NUM_EPOCHS = 15\n",
    "BATCH_SIZE = 64\n",
    "HIDDEN_UNITS = 20\n",
    "LEARNING_RATE = 0.001\n",
    "\n",
    "torch.manual_seed(42)  # Set seed for reproducibility\n"
   ]
  },
  {
   "cell_type": "code",
   "execution_count": 2,
   "metadata": {},
   "outputs": [
    {
     "name": "stdout",
     "output_type": "stream",
     "text": [
      "\n",
      "Using device: mps\n",
      "\n"
     ]
    },
    {
     "data": {
      "application/vnd.jupyter.widget-view+json": {
       "model_id": "8f499a39b5aa46d78225364cfc208bed",
       "version_major": 2,
       "version_minor": 0
      },
      "text/plain": [
       "Epochs:   0%|          | 0/15 [00:00<?, ?it/s]"
      ]
     },
     "metadata": {},
     "output_type": "display_data"
    },
    {
     "name": "stdout",
     "output_type": "stream",
     "text": [
      "Train Loss: 0.8445 | Train Acc: 0.6114 \n",
      "Test Loss: 0.7911 | Test Acc: 0.6348\n",
      "\n",
      "Train Loss: 0.7851 | Train Acc: 0.6464 \n",
      "Test Loss: 0.7828 | Test Acc: 0.6442\n",
      "\n",
      "Train Loss: 0.7758 | Train Acc: 0.6536 \n",
      "Test Loss: 0.7614 | Test Acc: 0.6639\n",
      "\n",
      "Train Loss: 0.7695 | Train Acc: 0.6603 \n",
      "Test Loss: 0.7584 | Test Acc: 0.6614\n",
      "\n",
      "Train Loss: 0.7639 | Train Acc: 0.6612 \n",
      "Test Loss: 0.7708 | Test Acc: 0.6556\n",
      "\n",
      "Train Loss: 0.7602 | Train Acc: 0.6728 \n",
      "Test Loss: 0.7724 | Test Acc: 0.6562\n",
      "\n",
      "Train Loss: 0.7603 | Train Acc: 0.6642 \n",
      "Test Loss: 0.7606 | Test Acc: 0.6619\n",
      "\n",
      "Train Loss: 0.7507 | Train Acc: 0.6724 \n",
      "Test Loss: 0.7509 | Test Acc: 0.6552\n",
      "\n",
      "Train Loss: 0.7541 | Train Acc: 0.6630 \n",
      "Test Loss: 0.7750 | Test Acc: 0.6323\n",
      "\n",
      "Train Loss: 0.7520 | Train Acc: 0.6724 \n",
      "Test Loss: 0.7569 | Test Acc: 0.6667\n",
      "\n",
      "Train Loss: 0.7474 | Train Acc: 0.6724 \n",
      "Test Loss: 0.7689 | Test Acc: 0.6542\n",
      "\n",
      "Train Loss: 0.7503 | Train Acc: 0.6698 \n",
      "Test Loss: 0.7689 | Test Acc: 0.6475\n",
      "\n",
      "Train Loss: 0.7444 | Train Acc: 0.6763 \n",
      "Test Loss: 0.7618 | Test Acc: 0.6589\n",
      "\n",
      "Train Loss: 0.7348 | Train Acc: 0.6824 \n",
      "Test Loss: 0.7488 | Test Acc: 0.6685\n",
      "\n",
      "Train Loss: 0.7432 | Train Acc: 0.6722 \n",
      "Test Loss: 0.7369 | Test Acc: 0.6911\n",
      "\n",
      "[INFO] Saving model to: models/ResNet18_model_V3_Sample_V0_Transform_baseV0.pth\n"
     ]
    }
   ],
   "source": [
    "# THIS WILL RUN A TRAINING CYCLE ON A TINY VGG MODEL\n",
    "if __name__ == '__main__':\n",
    "\n",
    "    train_dir = \"/Users/kkodweis/Github-Repos/EAS510-BasicsAI/multi-modal/datasets/SampleV0/Train\"\n",
    "    test_dir = \"/Users/kkodweis/Github-Repos/EAS510-BasicsAI/multi-modal/datasets/SampleV0/Test\"\n",
    "\n",
    "    device = \"mps\" if torch.backends.mps.is_available() else \"cuda\" if torch.cuda.is_available() else \"cpu\"\n",
    "    print(f\"\\nUsing device: {device}\\n\")\n",
    "\n",
    "    data_transform = utils.baseV0()\n",
    "\n",
    "    train_dataloader, test_dataloader, class_labels = data_setup.create_image_dataloaders(\n",
    "        train_dir=train_dir,\n",
    "        test_dir=test_dir,\n",
    "        transform=data_transform.data_transform,\n",
    "        batch_size=BATCH_SIZE\n",
    "    )\n",
    "\n",
    "    model = model_builder.ResNet18(num_classes=3).to(device)\n",
    "\n",
    "    loss_fn = torch.nn.CrossEntropyLoss()\n",
    "    optimizer = torch.optim.SGD(params=model.parameters(), lr=LEARNING_RATE)\n",
    "\n",
    "    engine.train(\n",
    "        model=model,\n",
    "        train_dataloader=train_dataloader,\n",
    "        test_dataloader=test_dataloader,\n",
    "        optimizer=optimizer,\n",
    "        loss_fn=loss_fn,\n",
    "        device=device,\n",
    "        epochs=NUM_EPOCHS\n",
    "    )\n",
    "\n",
    "    utils.save_model(model=model,target_dir=\"models\", model_name=\"ResNet18_model_V3_Sample_V0_Transform_baseV0.pth\")\n",
    "\n",
    "    \n",
    "    \"\"\"loaded_modelV2 = model_builder.TinyVGG(input_shape=3, hidden_units=HIDDEN_UNITS, output_shape=len(class_labels)).to(device)\n",
    "    loaded_modelV2.load_state_dict(torch.load(\"models/tinyvgg_model_V3.pth\"))\n",
    "\n",
    "    print(f\"Loaded model:\\n{loaded_modelV2}\")\n",
    "    print(f\"Model on device:\\n{next(loaded_modelV2.parameters()).device}\")\n",
    "\n",
    "    # Evaluate loaded model\n",
    "    loaded_modelV2.eval()\n",
    "    with torch.inference_mode():\n",
    "        loaded_modelV2_preds = loaded_modelV2(test_dataloader)\n",
    "    print(loaded_modelV2_preds)\"\"\"\n"
   ]
  },
  {
   "cell_type": "code",
   "execution_count": null,
   "metadata": {},
   "outputs": [],
   "source": []
  },
  {
   "cell_type": "code",
   "execution_count": null,
   "metadata": {},
   "outputs": [],
   "source": [
    "rdh.set_root_path(\"/Users/kkodweis/Github-Repos/EAS510-BasicsAI/multi-modal/datasets\")\n",
    "\n",
    "import pandas as pd\n",
    "\n",
    "input_dataframe = pd.read_csv('/Users/kkodweis/Github-Repos/EAS510-BasicsAI/multi-modal/RAW_DATA/mymoviedb_EAS510.csv')\n",
    "\n",
    "for genre in data_setup.get_genres(input_dataframe):\n",
    "    print(f\"{genre}\\n\")\n",
    "\n"
   ]
  },
  {
   "cell_type": "code",
   "execution_count": null,
   "metadata": {},
   "outputs": [],
   "source": [
    "SAMPLE_NAME = \"SampleV1\"  # Name of the sample directory\n",
    "\n",
    "labels = [ 'War', 'Horror']  #\"Comedy\", \"Western\", \"Thriller\",\n",
    "\n",
    "print(input_dataframe.columns)\n",
    "\n",
    "\n"
   ]
  },
  {
   "cell_type": "code",
   "execution_count": null,
   "metadata": {},
   "outputs": [],
   "source": [
    "#rdh.mk_sample(SAMPLE_NAME, input_dataframe, \"Genre\", \"Poster_Urls\", labels)"
   ]
  },
  {
   "cell_type": "code",
   "execution_count": null,
   "metadata": {},
   "outputs": [],
   "source": [
    "import requests\n",
    "\n",
    "genre = 'Action'\n",
    "\n",
    "base_url = 'https://api.movieposterdb.com/search?q=matrix'\n",
    "\n",
    "token = '528|MiCJGTHfoUrdFFs7iaAb2bC46iO1F7DkHc4AqgC4'\n",
    "\n",
    "def getActionMovies():\n",
    "    url = f\"https://api.movieposterdb.com/v1/genres\"\n",
    "    headers = {\n",
    "        \"Authorization\": f\"Bearer {token}\",\n",
    "        \"Accept\": \"application/json\"\n",
    "    }\n",
    "\n",
    "    response = requests.get(url, headers=headers)\n",
    "    print(response)\n",
    "\n",
    "    if response.status_code == 200:\n",
    "        print(response.json())\n",
    "        #print(genre_data)\n",
    "    else:\n",
    "        print(f\"Failed to retrieve data {response.status_code}\")\n",
    "\n",
    "getActionMovies()\n"
   ]
  },
  {
   "cell_type": "code",
   "execution_count": null,
   "metadata": {},
   "outputs": [],
   "source": []
  }
 ],
 "metadata": {
  "kernelspec": {
   "display_name": "my_env",
   "language": "python",
   "name": "python3"
  },
  "language_info": {
   "codemirror_mode": {
    "name": "ipython",
    "version": 3
   },
   "file_extension": ".py",
   "mimetype": "text/x-python",
   "name": "python",
   "nbconvert_exporter": "python",
   "pygments_lexer": "ipython3",
   "version": "3.12.8"
  }
 },
 "nbformat": 4,
 "nbformat_minor": 2
}
