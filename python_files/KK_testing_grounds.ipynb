{
 "cells": [
  {
   "cell_type": "code",
   "execution_count": 5,
   "metadata": {},
   "outputs": [
    {
     "data": {
      "text/plain": [
       "<torch._C.Generator at 0x10b10d630>"
      ]
     },
     "execution_count": 5,
     "metadata": {},
     "output_type": "execute_result"
    }
   ],
   "source": [
    "\n",
    "import os\n",
    "import torch\n",
    "import data_setup, model_builder, engine, utils\n",
    "\n",
    "\n",
    "NUM_EPOCHS = 20\n",
    "BATCH_SIZE = 64\n",
    "HIDDEN_UNITS = 128\n",
    "LEARNING_RATE = 0.001\n",
    "\n",
    "torch.manual_seed(42)  # Set seed for reproducibility\n"
   ]
  },
  {
   "cell_type": "code",
   "execution_count": null,
   "metadata": {},
   "outputs": [
    {
     "name": "stdout",
     "output_type": "stream",
     "text": [
      "\n",
      "Using device: mps\n",
      "\n"
     ]
    },
    {
     "data": {
      "application/vnd.jupyter.widget-view+json": {
       "model_id": "05c04c37447847bfb02d3207e89ac706",
       "version_major": 2,
       "version_minor": 0
      },
      "text/plain": [
       "Epochs:   0%|          | 0/20 [00:00<?, ?it/s]"
      ]
     },
     "metadata": {},
     "output_type": "display_data"
    }
   ],
   "source": [
    "# THIS WILL RUN A TRAINING CYCLE ON A TINY VGG MODEL\n",
    "if __name__ == '__main__':\n",
    "\n",
    "    train_dir = \"/Users/kkodweis/Github-Repos/EAS510-BasicsAI/multi-modal/datasets/SampleV0/Train\"\n",
    "    test_dir = \"/Users/kkodweis/Github-Repos/EAS510-BasicsAI/multi-modal/datasets/SampleV0/Test\"\n",
    "\n",
    "    device = \"mps\" if torch.backends.mps.is_available() else \"cuda\" if torch.cuda.is_available() else \"cpu\"\n",
    "    print(f\"\\nUsing device: {device}\\n\")\n",
    "\n",
    "    data_transform = utils.perspectiveV0()\n",
    "\n",
    "    train_dataloader, test_dataloader, class_labels = data_setup.create_dataloaders(\n",
    "        train_dir=train_dir,\n",
    "        test_dir=test_dir,\n",
    "        transform=data_transform.data_transform,\n",
    "        batch_size=BATCH_SIZE\n",
    "    )\n",
    "\n",
    "    model = model_builder.TinyVGG(input_shape=3, hidden_units=HIDDEN_UNITS, output_shape=len(class_labels)).to(device)\n",
    "\n",
    "    loss_fn = torch.nn.CrossEntropyLoss()\n",
    "    optimizer = torch.optim.SGD(params=model.parameters(), lr=LEARNING_RATE)\n",
    "\n",
    "    engine.train(\n",
    "        model=model,\n",
    "        train_dataloader=train_dataloader,\n",
    "        test_dataloader=test_dataloader,\n",
    "        optimizer=optimizer,\n",
    "        loss_fn=loss_fn,\n",
    "        device=device,\n",
    "        epochs=NUM_EPOCHS\n",
    "    )\n",
    "\n",
    "    utils.save_model(model=model,target_dir=\"models\", model_name=\"tinyvgg_model_V3.pth\")\n",
    "\n",
    "    \n",
    "    loaded_modelV2 = model_builder.TinyVGG(input_shape=3, hidden_units=HIDDEN_UNITS, output_shape=len(class_labels)).to(device)\n",
    "    loaded_modelV2.load_state_dict(torch.load(\"models/tinyvgg_model_V3.pth\"))\n",
    "\n",
    "    print(f\"Loaded model:\\n{loaded_modelV2}\")\n",
    "    print(f\"Model on device:\\n{next(loaded_modelV2.parameters()).device}\")\n",
    "\n",
    "    # Evaluate loaded model\n",
    "    loaded_modelV2.eval()\n",
    "    with torch.inference_mode():\n",
    "        loaded_modelV2_preds = loaded_modelV2(test_dataloader)\n",
    "    print(loaded_modelV2_preds)\n"
   ]
  },
  {
   "cell_type": "code",
   "execution_count": null,
   "metadata": {},
   "outputs": [],
   "source": [
    "rdh.set_root_path(\"/Users/kkodweis/Github-Repos/EAS510-BasicsAI/multi-modal/datasets\")\n",
    "\n",
    "import pandas as pd\n",
    "\n",
    "input_dataframe = pd.read_csv('/Users/kkodweis/Github-Repos/EAS510-BasicsAI/multi-modal/RAW_DATA/mymoviedb_EAS510.csv')\n",
    "\n",
    "for genre in data_setup.get_genres(input_dataframe):\n",
    "    print(f\"{genre}\\n\")\n",
    "\n"
   ]
  },
  {
   "cell_type": "code",
   "execution_count": null,
   "metadata": {},
   "outputs": [],
   "source": [
    "SAMPLE_NAME = \"SampleV1\"  # Name of the sample directory\n",
    "\n",
    "labels = [ 'War', 'Horror']  #\"Comedy\", \"Western\", \"Thriller\",\n",
    "\n",
    "print(input_dataframe.columns)\n",
    "\n",
    "\n"
   ]
  },
  {
   "cell_type": "code",
   "execution_count": null,
   "metadata": {},
   "outputs": [],
   "source": [
    "#rdh.mk_sample(SAMPLE_NAME, input_dataframe, \"Genre\", \"Poster_Urls\", labels)"
   ]
  }
 ],
 "metadata": {
  "kernelspec": {
   "display_name": "my_env",
   "language": "python",
   "name": "python3"
  },
  "language_info": {
   "codemirror_mode": {
    "name": "ipython",
    "version": 3
   },
   "file_extension": ".py",
   "mimetype": "text/x-python",
   "name": "python",
   "nbconvert_exporter": "python",
   "pygments_lexer": "ipython3",
   "version": "3.12.8"
  }
 },
 "nbformat": 4,
 "nbformat_minor": 2
}
