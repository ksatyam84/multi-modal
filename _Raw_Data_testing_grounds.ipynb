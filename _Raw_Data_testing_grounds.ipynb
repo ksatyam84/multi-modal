{
 "cells": [
  {
   "cell_type": "code",
   "execution_count": 4,
   "metadata": {},
   "outputs": [
    {
     "ename": "TypeError",
     "evalue": "get_indiv_elements_from_column() takes 2 positional arguments but 3 were given",
     "output_type": "error",
     "traceback": [
      "\u001b[0;31m---------------------------------------------------------------------------\u001b[0m",
      "\u001b[0;31mTypeError\u001b[0m                                 Traceback (most recent call last)",
      "Cell \u001b[0;32mIn[4], line 8\u001b[0m\n\u001b[1;32m      5\u001b[0m csv_file \u001b[38;5;241m=\u001b[39m \u001b[38;5;124m\"\u001b[39m\u001b[38;5;124mRAW_DATA/MovieGenre.csv\u001b[39m\u001b[38;5;124m\"\u001b[39m\n\u001b[1;32m      6\u001b[0m input_dataframe \u001b[38;5;241m=\u001b[39m pd\u001b[38;5;241m.\u001b[39mread_csv(csv_file, encoding\u001b[38;5;241m=\u001b[39m\u001b[38;5;124m'\u001b[39m\u001b[38;5;124mISO-8859-1\u001b[39m\u001b[38;5;124m'\u001b[39m)\n\u001b[0;32m----> 8\u001b[0m \u001b[38;5;28mprint\u001b[39m(rdh\u001b[38;5;241m.\u001b[39mget_indiv_elements_from_column(\u001b[38;5;124m\"\u001b[39m\u001b[38;5;124mGenre\u001b[39m\u001b[38;5;124m\"\u001b[39m, \u001b[38;5;124m'\u001b[39m\u001b[38;5;124m|\u001b[39m\u001b[38;5;124m'\u001b[39m, input_dataframe))\n\u001b[1;32m     10\u001b[0m stor \u001b[38;5;241m=\u001b[39m rdh\u001b[38;5;241m.\u001b[39mcollect_element_urls(\u001b[38;5;124m\"\u001b[39m\u001b[38;5;124mThriller\u001b[39m\u001b[38;5;124m\"\u001b[39m, input_dataframe, \u001b[38;5;124m\"\u001b[39m\u001b[38;5;124mGenre\u001b[39m\u001b[38;5;124m\"\u001b[39m, \u001b[38;5;124m\"\u001b[39m\u001b[38;5;124mPoster\u001b[39m\u001b[38;5;124m\"\u001b[39m)\n\u001b[1;32m     12\u001b[0m \u001b[38;5;28mprint\u001b[39m(stor)\n",
      "\u001b[0;31mTypeError\u001b[0m: get_indiv_elements_from_column() takes 2 positional arguments but 3 were given"
     ]
    }
   ],
   "source": [
    "import raw_data_handler as rdh\n",
    "import pandas as pd\n",
    "\n",
    "\n",
    "csv_file = \"RAW_DATA/MovieGenre.csv\"\n",
    "input_dataframe = pd.read_csv(csv_file, encoding='ISO-8859-1')\n",
    "\n",
    "print(rdh.get_indiv_elements_from_column(\"Genre\", '|', input_dataframe))\n",
    "\n",
    "stor = rdh.collect_element_urls(\"Thriller\", input_dataframe, \"Genre\", \"Poster\")\n",
    "\n",
    "print(stor)\n"
   ]
  },
  {
   "cell_type": "code",
   "execution_count": 28,
   "metadata": {},
   "outputs": [
    {
     "name": "stdout",
     "output_type": "stream",
     "text": [
      "Directory /Users/kkodweis/Github-Repos/EAS510-BasicsAI/multi-modal/datasets/SampleV1 created successfully\n"
     ]
    }
   ],
   "source": [
    "ROOT_PATH = rdh.set_root_path(\"/Users/kkodweis/Github-Repos/EAS510-BasicsAI/multi-modal/datasets/\")\n",
    "\n",
    "rdh.mk_element_dir(\"SampleV1\", ROOT_PATH)\n"
   ]
  },
  {
   "cell_type": "code",
   "execution_count": 31,
   "metadata": {},
   "outputs": [
    {
     "ename": "TypeError",
     "evalue": "mkdir_elements() takes 2 positional arguments but 3 were given",
     "output_type": "error",
     "traceback": [
      "\u001b[0;31m---------------------------------------------------------------------------\u001b[0m",
      "\u001b[0;31mTypeError\u001b[0m                                 Traceback (most recent call last)",
      "Cell \u001b[0;32mIn[31], line 3\u001b[0m\n\u001b[1;32m      1\u001b[0m genres \u001b[38;5;241m=\u001b[39m [\u001b[38;5;124m'\u001b[39m\u001b[38;5;124mFamily\u001b[39m\u001b[38;5;124m'\u001b[39m, \u001b[38;5;124m'\u001b[39m\u001b[38;5;124mMusic\u001b[39m\u001b[38;5;124m'\u001b[39m, \u001b[38;5;124m'\u001b[39m\u001b[38;5;124mNews\u001b[39m\u001b[38;5;124m'\u001b[39m, \u001b[38;5;124m\"\u001b[39m\u001b[38;5;124mFantasy\u001b[39m\u001b[38;5;124m\"\u001b[39m]\n\u001b[0;32m----> 3\u001b[0m rdh\u001b[38;5;241m.\u001b[39mmkdir_elements(\u001b[38;5;124m\"\u001b[39m\u001b[38;5;124mSampleV1\u001b[39m\u001b[38;5;124m\"\u001b[39m, genres, ROOT_PATH )\n",
      "\u001b[0;31mTypeError\u001b[0m: mkdir_elements() takes 2 positional arguments but 3 were given"
     ]
    }
   ],
   "source": [
    "genres = ['Family', 'Music', 'News', \"Fantasy\"]\n",
    "\n",
    "rdh.mkdir_elements(\"SampleV1\", genres, ROOT_PATH )\n",
    "\n",
    "#rdh.ld_img_dir(\"/Users/kkodweis/Github-Repos/EAS510-BasicsAI/multi-modal/datasets/SampleV1\", input_dataframe, genres, \"Genre\", \"Poster\")"
   ]
  }
 ],
 "metadata": {
  "kernelspec": {
   "display_name": "my_env",
   "language": "python",
   "name": "python3"
  },
  "language_info": {
   "codemirror_mode": {
    "name": "ipython",
    "version": 3
   },
   "file_extension": ".py",
   "mimetype": "text/x-python",
   "name": "python",
   "nbconvert_exporter": "python",
   "pygments_lexer": "ipython3",
   "version": "3.12.8"
  }
 },
 "nbformat": 4,
 "nbformat_minor": 2
}
