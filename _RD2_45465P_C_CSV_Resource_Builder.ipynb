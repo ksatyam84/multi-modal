{
 "cells": [
  {
   "cell_type": "code",
   "execution_count": null,
   "metadata": {},
   "outputs": [
    {
     "name": "stdout",
     "output_type": "stream",
     "text": [
      "       adult                              belongs_to_collection    budget  \\\n",
      "0      False  {'id': 10194, 'name': 'Toy Story Collection', ...  30000000   \n",
      "1      False                                                NaN  65000000   \n",
      "2      False  {'id': 119050, 'name': 'Grumpy Old Men Collect...         0   \n",
      "3      False                                                NaN  16000000   \n",
      "4      False  {'id': 96871, 'name': 'Father of the Bride Col...         0   \n",
      "...      ...                                                ...       ...   \n",
      "45461  False                                                NaN         0   \n",
      "45462  False                                                NaN         0   \n",
      "45463  False                                                NaN         0   \n",
      "45464  False                                                NaN         0   \n",
      "45465  False                                                NaN         0   \n",
      "\n",
      "                                                  genres  \\\n",
      "0      [{'id': 16, 'name': 'Animation'}, {'id': 35, '...   \n",
      "1      [{'id': 12, 'name': 'Adventure'}, {'id': 14, '...   \n",
      "2      [{'id': 10749, 'name': 'Romance'}, {'id': 35, ...   \n",
      "3      [{'id': 35, 'name': 'Comedy'}, {'id': 18, 'nam...   \n",
      "4                         [{'id': 35, 'name': 'Comedy'}]   \n",
      "...                                                  ...   \n",
      "45461  [{'id': 18, 'name': 'Drama'}, {'id': 10751, 'n...   \n",
      "45462                      [{'id': 18, 'name': 'Drama'}]   \n",
      "45463  [{'id': 28, 'name': 'Action'}, {'id': 18, 'nam...   \n",
      "45464                                                 []   \n",
      "45465                                                 []   \n",
      "\n",
      "                                   homepage      id    imdb_id  \\\n",
      "0      http://toystory.disney.com/toy-story     862  tt0114709   \n",
      "1                                       NaN    8844  tt0113497   \n",
      "2                                       NaN   15602  tt0113228   \n",
      "3                                       NaN   31357  tt0114885   \n",
      "4                                       NaN   11862  tt0113041   \n",
      "...                                     ...     ...        ...   \n",
      "45461  http://www.imdb.com/title/tt6209470/  439050  tt6209470   \n",
      "45462                                   NaN  111109  tt2028550   \n",
      "45463                                   NaN   67758  tt0303758   \n",
      "45464                                   NaN  227506  tt0008536   \n",
      "45465                                   NaN  461257  tt6980792   \n",
      "\n",
      "      original_language               original_title  \\\n",
      "0                    en                    Toy Story   \n",
      "1                    en                      Jumanji   \n",
      "2                    en             Grumpier Old Men   \n",
      "3                    en            Waiting to Exhale   \n",
      "4                    en  Father of the Bride Part II   \n",
      "...                 ...                          ...   \n",
      "45461                fa                      رگ خواب   \n",
      "45462                tl          Siglo ng Pagluluwal   \n",
      "45463                en                     Betrayal   \n",
      "45464                en          Satana likuyushchiy   \n",
      "45465                en                     Queerama   \n",
      "\n",
      "                                                overview  ... release_date  \\\n",
      "0      Led by Woody, Andy's toys live happily in his ...  ...   1995-10-30   \n",
      "1      When siblings Judy and Peter discover an encha...  ...   1995-12-15   \n",
      "2      A family wedding reignites the ancient feud be...  ...   1995-12-22   \n",
      "3      Cheated on, mistreated and stepped on, the wom...  ...   1995-12-22   \n",
      "4      Just when George Banks has recovered from his ...  ...   1995-02-10   \n",
      "...                                                  ...  ...          ...   \n",
      "45461        Rising and falling between a man and woman.  ...          NaN   \n",
      "45462  An artist struggles to finish his work while a...  ...   2011-11-17   \n",
      "45463  When one of her hits goes wrong, a professiona...  ...   2003-08-01   \n",
      "45464  In a small town live two brothers, one a minis...  ...   1917-10-21   \n",
      "45465  50 years after decriminalisation of homosexual...  ...   2017-06-09   \n",
      "\n",
      "           revenue runtime                                   spoken_languages  \\\n",
      "0      373554033.0    81.0           [{'iso_639_1': 'en', 'name': 'English'}]   \n",
      "1      262797249.0   104.0  [{'iso_639_1': 'en', 'name': 'English'}, {'iso...   \n",
      "2              0.0   101.0           [{'iso_639_1': 'en', 'name': 'English'}]   \n",
      "3       81452156.0   127.0           [{'iso_639_1': 'en', 'name': 'English'}]   \n",
      "4       76578911.0   106.0           [{'iso_639_1': 'en', 'name': 'English'}]   \n",
      "...            ...     ...                                                ...   \n",
      "45461          0.0    90.0             [{'iso_639_1': 'fa', 'name': 'فارسی'}]   \n",
      "45462          0.0   360.0                  [{'iso_639_1': 'tl', 'name': ''}]   \n",
      "45463          0.0    90.0           [{'iso_639_1': 'en', 'name': 'English'}]   \n",
      "45464          0.0    87.0                                                 []   \n",
      "45465          0.0    75.0           [{'iso_639_1': 'en', 'name': 'English'}]   \n",
      "\n",
      "         status                                            tagline  \\\n",
      "0      Released                                                NaN   \n",
      "1      Released          Roll the dice and unleash the excitement!   \n",
      "2      Released  Still Yelling. Still Fighting. Still Ready for...   \n",
      "3      Released  Friends are the people who let you be yourself...   \n",
      "4      Released  Just When His World Is Back To Normal... He's ...   \n",
      "...         ...                                                ...   \n",
      "45461  Released         Rising and falling between a man and woman   \n",
      "45462  Released                                                NaN   \n",
      "45463  Released                             A deadly game of wits.   \n",
      "45464  Released                                                NaN   \n",
      "45465  Released                                                NaN   \n",
      "\n",
      "                             title  video vote_average vote_count  \n",
      "0                        Toy Story  False          7.7     5415.0  \n",
      "1                          Jumanji  False          6.9     2413.0  \n",
      "2                 Grumpier Old Men  False          6.5       92.0  \n",
      "3                Waiting to Exhale  False          6.1       34.0  \n",
      "4      Father of the Bride Part II  False          5.7      173.0  \n",
      "...                            ...    ...          ...        ...  \n",
      "45461                       Subdue  False          4.0        1.0  \n",
      "45462          Century of Birthing  False          9.0        3.0  \n",
      "45463                     Betrayal  False          3.8        6.0  \n",
      "45464             Satan Triumphant  False          0.0        0.0  \n",
      "45465                     Queerama  False          0.0        0.0  \n",
      "\n",
      "[45466 rows x 24 columns]\n",
      "\n"
     ]
    },
    {
     "name": "stderr",
     "output_type": "stream",
     "text": [
      "/var/folders/39/bh4fw4vj6418nv0wlwfwd9t40000gn/T/ipykernel_4594/3897612301.py:6: DtypeWarning: Columns (10) have mixed types. Specify dtype option on import or set low_memory=False.\n",
      "  input_dataframe = pd.read_csv(csv_file)\n"
     ]
    },
    {
     "ename": "TypeError",
     "evalue": "'NoneType' object is not iterable",
     "output_type": "error",
     "traceback": [
      "\u001b[0;31m---------------------------------------------------------------------------\u001b[0m",
      "\u001b[0;31mTypeError\u001b[0m                                 Traceback (most recent call last)",
      "Cell \u001b[0;32mIn[2], line 12\u001b[0m\n\u001b[1;32m      8\u001b[0m \u001b[38;5;28mprint\u001b[39m(input_dataframe)\n\u001b[1;32m     10\u001b[0m \u001b[38;5;28mprint\u001b[39m()\n\u001b[0;32m---> 12\u001b[0m \u001b[38;5;28mprint\u001b[39m(rdh\u001b[38;5;241m.\u001b[39mget_indiv_elements_from_column(\u001b[38;5;124m\"\u001b[39m\u001b[38;5;124mGenre\u001b[39m\u001b[38;5;124m\"\u001b[39m, \u001b[38;5;124m'\u001b[39m\u001b[38;5;124m, \u001b[39m\u001b[38;5;124m'\u001b[39m, input_dataframe))\n",
      "File \u001b[0;32m~/Github-Repos/EAS510-BasicsAI/multi-modal/raw_data_handler.py:101\u001b[0m, in \u001b[0;36mget_indiv_elements_from_column\u001b[0;34m(name, separator, input_dataframe)\u001b[0m\n\u001b[1;32m     90\u001b[0m \u001b[38;5;28;01mdef\u001b[39;00m \u001b[38;5;21mget_indiv_elements_from_column\u001b[39m(name, separator, input_dataframe):\n\u001b[1;32m     91\u001b[0m     \n\u001b[1;32m     92\u001b[0m     \u001b[38;5;66;03m### Get a list of unique elements from a specified column in the input dataframe.\u001b[39;00m\n\u001b[0;32m   (...)\u001b[0m\n\u001b[1;32m     96\u001b[0m     \u001b[38;5;66;03m# Returns:\u001b[39;00m\n\u001b[1;32m     97\u001b[0m     \u001b[38;5;66;03m#     list: A list of unique elements from the specified column.\u001b[39;00m\n\u001b[1;32m     99\u001b[0m     indiv_elements \u001b[38;5;241m=\u001b[39m []\n\u001b[0;32m--> 101\u001b[0m     \u001b[38;5;28;01mfor\u001b[39;00m element_set \u001b[38;5;129;01min\u001b[39;00m input_dataframe\u001b[38;5;241m.\u001b[39mget(name):\n\u001b[1;32m    102\u001b[0m         \u001b[38;5;28;01mif\u001b[39;00m \u001b[38;5;129;01mnot\u001b[39;00m \u001b[38;5;28misinstance\u001b[39m(element_set, \u001b[38;5;28mfloat\u001b[39m):\n\u001b[1;32m    103\u001b[0m             \u001b[38;5;28;01mfor\u001b[39;00m element_item \u001b[38;5;129;01min\u001b[39;00m element_set\u001b[38;5;241m.\u001b[39msplit(separator):\n",
      "\u001b[0;31mTypeError\u001b[0m: 'NoneType' object is not iterable"
     ]
    }
   ],
   "source": [
    "\n",
    "import raw_data_handler as rdh\n",
    "import pandas as pd\n",
    "\n",
    "\n",
    "csv_file = \"RAW_DATA/RD2_45465P_C.csv\"\n",
    "input_dataframe = pd.read_csv(csv_file)\n",
    "\n",
    "print(input_dataframe)\n",
    "\n",
    "print()\n",
    "\n",
    "print(rdh.get_indiv_elements_from_column(\"Genre\", ', ', input_dataframe))\n",
    "\n",
    "\n"
   ]
  },
  {
   "cell_type": "code",
   "execution_count": 2,
   "metadata": {},
   "outputs": [],
   "source": [
    "ROOT_PATH = rdh.set_root_path(\"/Users/kkodweis/Github-Repos/EAS510-BasicsAI/multi-modal/datasets/\")\n",
    "\n"
   ]
  },
  {
   "cell_type": "code",
   "execution_count": 3,
   "metadata": {},
   "outputs": [
    {
     "name": "stdout",
     "output_type": "stream",
     "text": [
      "HALLLO\n",
      "Directory SampleV1 created successfully\n",
      "Directory /Users/kkodweis/Github-Repos/EAS510-BasicsAI/multi-modal/datasets/SampleV1/Train/Family created successfully\n",
      "Directory /Users/kkodweis/Github-Repos/EAS510-BasicsAI/multi-modal/datasets/SampleV1/Train/Music created successfully\n",
      "Directory /Users/kkodweis/Github-Repos/EAS510-BasicsAI/multi-modal/datasets/SampleV1/Train/News created successfully\n",
      "Directory /Users/kkodweis/Github-Repos/EAS510-BasicsAI/multi-modal/datasets/SampleV1/Train/Fantasy created successfully\n",
      "Directory /Users/kkodweis/Github-Repos/EAS510-BasicsAI/multi-modal/datasets/SampleV1/Train/Animation created successfully\n",
      "Directory /Users/kkodweis/Github-Repos/EAS510-BasicsAI/multi-modal/datasets/SampleV1/Train/Adventure created successfully\n",
      "Directory /Users/kkodweis/Github-Repos/EAS510-BasicsAI/multi-modal/datasets/SampleV1/Train/Comedy created successfully\n",
      "Directory /Users/kkodweis/Github-Repos/EAS510-BasicsAI/multi-modal/datasets/SampleV1/Train/Action created successfully\n",
      "Directory /Users/kkodweis/Github-Repos/EAS510-BasicsAI/multi-modal/datasets/SampleV1/Train/Romance created successfully\n",
      "Directory /Users/kkodweis/Github-Repos/EAS510-BasicsAI/multi-modal/datasets/SampleV1/Train/Drama created successfully\n",
      "Directory /Users/kkodweis/Github-Repos/EAS510-BasicsAI/multi-modal/datasets/SampleV1/Train/Crime created successfully\n",
      "Directory /Users/kkodweis/Github-Repos/EAS510-BasicsAI/multi-modal/datasets/SampleV1/Train/Thriller created successfully\n",
      "Directory /Users/kkodweis/Github-Repos/EAS510-BasicsAI/multi-modal/datasets/SampleV1/Test/Family created successfully\n",
      "Directory /Users/kkodweis/Github-Repos/EAS510-BasicsAI/multi-modal/datasets/SampleV1/Test/Music created successfully\n",
      "Directory /Users/kkodweis/Github-Repos/EAS510-BasicsAI/multi-modal/datasets/SampleV1/Test/News created successfully\n",
      "Directory /Users/kkodweis/Github-Repos/EAS510-BasicsAI/multi-modal/datasets/SampleV1/Test/Fantasy created successfully\n",
      "Directory /Users/kkodweis/Github-Repos/EAS510-BasicsAI/multi-modal/datasets/SampleV1/Test/Animation created successfully\n",
      "Directory /Users/kkodweis/Github-Repos/EAS510-BasicsAI/multi-modal/datasets/SampleV1/Test/Adventure created successfully\n",
      "Directory /Users/kkodweis/Github-Repos/EAS510-BasicsAI/multi-modal/datasets/SampleV1/Test/Comedy created successfully\n",
      "Directory /Users/kkodweis/Github-Repos/EAS510-BasicsAI/multi-modal/datasets/SampleV1/Test/Action created successfully\n",
      "Directory /Users/kkodweis/Github-Repos/EAS510-BasicsAI/multi-modal/datasets/SampleV1/Test/Romance created successfully\n",
      "Directory /Users/kkodweis/Github-Repos/EAS510-BasicsAI/multi-modal/datasets/SampleV1/Test/Drama created successfully\n",
      "Directory /Users/kkodweis/Github-Repos/EAS510-BasicsAI/multi-modal/datasets/SampleV1/Test/Crime created successfully\n",
      "Directory /Users/kkodweis/Github-Repos/EAS510-BasicsAI/multi-modal/datasets/SampleV1/Test/Thriller created successfully\n"
     ]
    }
   ],
   "source": [
    "genres = ['Family', 'Music', 'News', \"Fantasy\", 'Animation', 'Adventure', 'Comedy', 'Action', 'Romance', 'Drama', 'Crime',\"Thriller\"]\n",
    "\n",
    "rdh.mkdir_elements(\"SampleV1\", genres, ROOT_PATH )\n",
    "\n",
    "#rdh.ld_img_dir(\"/Users/kkodweis/Github-Repos/EAS510-BasicsAI/multi-modal/datasets/SampleV1\", input_dataframe, genres, \"Genre\", \"Poster\")"
   ]
  },
  {
   "cell_type": "code",
   "execution_count": null,
   "metadata": {},
   "outputs": [
    {
     "name": "stderr",
     "output_type": "stream",
     "text": [
      "  0%|          | 0/12 [00:00<?, ?it/s]"
     ]
    },
    {
     "name": "stdout",
     "output_type": "stream",
     "text": [
      "i: 9837, Family movies: 1414, Family urls: 1414\n",
      "train_url_array length: 1131\n",
      "test_url_array length: 283\n",
      "/Users/kkodweis/Github-Repos/EAS510-BasicsAI/multi-modal/datasets//SampleV1/Train/Family\n"
     ]
    },
    {
     "name": "stderr",
     "output_type": "stream",
     "text": []
    }
   ],
   "source": [
    "rdh.ld_img_dir(ROOT_PATH + \"/SampleV1\", input_dataframe, genres, 'Genre', 'Poster_Url')"
   ]
  },
  {
   "cell_type": "markdown",
   "metadata": {},
   "source": []
  }
 ],
 "metadata": {
  "kernelspec": {
   "display_name": "my_env",
   "language": "python",
   "name": "python3"
  },
  "language_info": {
   "codemirror_mode": {
    "name": "ipython",
    "version": 3
   },
   "file_extension": ".py",
   "mimetype": "text/x-python",
   "name": "python",
   "nbconvert_exporter": "python",
   "pygments_lexer": "ipython3",
   "version": "3.12.8"
  }
 },
 "nbformat": 4,
 "nbformat_minor": 2
}
